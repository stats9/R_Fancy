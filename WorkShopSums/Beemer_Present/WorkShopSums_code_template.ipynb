{
 "cells": [
  {
   "cell_type": "markdown",
   "metadata": {},
   "source": [
    "#### Conditional Structures in R"
   ]
  },
  {
   "cell_type": "markdown",
   "metadata": {},
   "source": [
    "Example (i): "
   ]
  },
  {
   "cell_type": "code",
   "execution_count": 43,
   "metadata": {
    "vscode": {
     "languageId": "r"
    }
   },
   "outputs": [],
   "source": [
    "temp <- readline() |> as.numeric()"
   ]
  },
  {
   "cell_type": "code",
   "execution_count": 45,
   "metadata": {
    "vscode": {
     "languageId": "r"
    }
   },
   "outputs": [
    {
     "name": "stdout",
     "output_type": "stream",
     "text": [
      "[1] \"Great\"\n"
     ]
    }
   ],
   "source": [
    "if((temp %% 5) %in% c(2, 3) ) print(\"Great\")"
   ]
  },
  {
   "cell_type": "markdown",
   "metadata": {},
   "source": [
    "\n",
    "<br><br><hr><hr><br>\n",
    "#### if-else Example (ii):"
   ]
  },
  {
   "cell_type": "code",
   "execution_count": 52,
   "metadata": {
    "vscode": {
     "languageId": "r"
    }
   },
   "outputs": [],
   "source": [
    "x <- readline() |> as.numeric() \n",
    "if (x < 20) print(\"please insert a number that Greater than 20\")"
   ]
  },
  {
   "cell_type": "code",
   "execution_count": 53,
   "metadata": {
    "vscode": {
     "languageId": "r"
    }
   },
   "outputs": [
    {
     "name": "stdout",
     "output_type": "stream",
     "text": [
      "[1] \"CC\"\n"
     ]
    }
   ],
   "source": [
    "if (x >= 20) {\n",
    "    if (x %% 5 == 0) {\n",
    "        print(\"A\")\n",
    "    } else {\n",
    "        if (x %% 5 == 1) {\n",
    "            print(\"B\") \n",
    "        } else {\n",
    "            if (x %% 5 == 2) {\n",
    "                print(\"CC\") \n",
    "            } else {\n",
    "                if (x %% 5 == 3) {\n",
    "                    print(\"C\")\n",
    "                } else {\n",
    "                    print(\"D\")\n",
    "                }\n",
    "            }\n",
    "        }\n",
    "    }\n",
    "}"
   ]
  },
  {
   "cell_type": "markdown",
   "metadata": {},
   "source": [
    "<br><br> <hr><hr> \n",
    "<br>\n",
    "\n",
    "#### Ex (iii) ifelse: "
   ]
  },
  {
   "cell_type": "code",
   "execution_count": 54,
   "metadata": {
    "vscode": {
     "languageId": "r"
    }
   },
   "outputs": [],
   "source": [
    "x <- readline() |> as.numeric() \n"
   ]
  },
  {
   "cell_type": "code",
   "execution_count": 55,
   "metadata": {
    "vscode": {
     "languageId": "r"
    }
   },
   "outputs": [
    {
     "data": {
      "text/html": [
       "'odd'"
      ],
      "text/latex": [
       "'odd'"
      ],
      "text/markdown": [
       "'odd'"
      ],
      "text/plain": [
       "[1] \"odd\""
      ]
     },
     "metadata": {},
     "output_type": "display_data"
    }
   ],
   "source": [
    "ifelse(x %% 2 == 0, \"even\", \"odd\")"
   ]
  },
  {
   "cell_type": "markdown",
   "metadata": {},
   "source": [
    "<br><br><hr><hr>\n"
   ]
  },
  {
   "cell_type": "markdown",
   "metadata": {},
   "source": [
    "<br><br><hr><br><br>"
   ]
  },
  {
   "cell_type": "markdown",
   "metadata": {},
   "source": [
    "#### while loop: Example (iv)"
   ]
  },
  {
   "cell_type": "code",
   "execution_count": null,
   "metadata": {
    "vscode": {
     "languageId": "r"
    }
   },
   "outputs": [
    {
     "data": {
      "image/png": "[encoded data removed]",
      "text/plain": [
       "plot without title"
      ]
     },
     "metadata": {
      "image/png": {
       "height": 420,
       "width": 420
      }
     },
     "output_type": "display_data"
    }
   ],
   "source": [
    "options(warn = -1)\n",
    "library(tidyverse)\n",
    "\n",
    "f <- function(x) exp(x) - x ** 2\n",
    "\n",
    "ggplot() +\n",
    "    stat_function(fun = f, xlim = c(-4, 4), linewidth = 2, color = \"red\") +\n",
    "    geom_hline(yintercept = 0, linewidth = 2, color = \"blue\") +\n",
    "    theme_bw()"
   ]
  },
  {
   "cell_type": "code",
   "execution_count": 7,
   "metadata": {
    "vscode": {
     "languageId": "r"
    }
   },
   "outputs": [
    {
     "name": "stdout",
     "output_type": "stream",
     "text": [
      "xn: -0.7034675\n",
      "f(xn): -8.716603e-08\n",
      "Elapsed Time: 0.02009249\n"
     ]
    }
   ],
   "source": [
    "x0 <- -1\n",
    "f2 <- function(x) exp(x) - 2*x\n",
    "res <- f(x0)\n",
    "tol <- 1e-7\n",
    "start_time_while_ex_1 <- Sys.time()\n",
    "while(abs(res) > tol) {\n",
    "    xn <- x0 - f(x0) / f2(x0)\n",
    "    x0 <- xn\n",
    "    res <- f(x0)\n",
    "}\n",
    "End_time_while_ex_1 <- Sys.time()\n",
    "time_while_ex_1 <- difftime(End_time_while_ex_1, start_time_while_ex_1, unit = \"sec\")\n",
    "cat(\"xn: \", xn, \"\\n\", \n",
    "\"f(xn): \", f(xn), \"\\n\", \n",
    "\"Elapsed Time: \", time_while_ex_1, \"\\n\", sep = \"\")"
   ]
  },
  {
   "cell_type": "markdown",
   "metadata": {},
   "source": [
    "<br><br>\n",
    "<hr><hr>\n",
    "\n",
    "#### Repeat loop: Example (v)"
   ]
  },
  {
   "cell_type": "code",
   "execution_count": 9,
   "metadata": {
    "vscode": {
     "languageId": "r"
    }
   },
   "outputs": [
    {
     "name": "stdout",
     "output_type": "stream",
     "text": [
      "xn: -0.7034675\n",
      "f(xn): -8.716603e-08\n",
      "Elapsed Time: 0.02514911\n"
     ]
    }
   ],
   "source": [
    "options(warn = -1)\n",
    "library(tidyverse)\n",
    "\n",
    "f <- function(x) exp(x) - x ** 2\n",
    "x0 <- -1\n",
    "f2 <- function(x) exp(x) - 2*x\n",
    "tol <- 1e-7\n",
    "\n",
    "start_time_repeat_ex_1 <- Sys.time()\n",
    "repeat{\n",
    "    res <- f(x0)\n",
    "    a <- (abs(res) < tol)\n",
    "    if(a) break\n",
    "    x0 <- x0 - f(x0) / f2(x0)\n",
    "}\n",
    "End_time_repeat_ex_1 <- Sys.time()\n",
    "time_repeat_ex_1 <- difftime(End_time_repeat_ex_1, start_time_repeat_ex_1, unit = \"sec\")\n",
    "cat(\"xn: \", x0, \"\\n\", \n",
    "\"f(xn): \", f(x0), \"\\n\", \n",
    "\"Elapsed Time: \", time_repeat_ex_1, \"\\n\", sep = \"\")"
   ]
  },
  {
   "cell_type": "markdown",
   "metadata": {},
   "source": [
    "<br><br><hr><hr><br>\n",
    "#### for loop: Example (vi)"
   ]
  },
  {
   "cell_type": "code",
   "execution_count": 17,
   "metadata": {
    "vscode": {
     "languageId": "r"
    }
   },
   "outputs": [
    {
     "data": {
      "text/html": [
       "<style>\n",
       ".list-inline {list-style: none; margin:0; padding: 0}\n",
       ".list-inline>li {display: inline-block}\n",
       ".list-inline>li:not(:last-child)::after {content: \"\\00b7\"; padding: 0 .5ex}\n",
       "</style>\n",
       "<ol class=list-inline><li>472</li><li>617</li><li>541</li><li>391</li><li>511</li><li>569</li><li>504</li><li>329</li><li>548</li><li>478</li></ol>\n"
      ],
      "text/latex": [
       "\\begin{enumerate*}\n",
       "\\item 472\n",
       "\\item 617\n",
       "\\item 541\n",
       "\\item 391\n",
       "\\item 511\n",
       "\\item 569\n",
       "\\item 504\n",
       "\\item 329\n",
       "\\item 548\n",
       "\\item 478\n",
       "\\end{enumerate*}\n"
      ],
      "text/markdown": [
       "1. 472\n",
       "2. 617\n",
       "3. 541\n",
       "4. 391\n",
       "5. 511\n",
       "6. 569\n",
       "7. 504\n",
       "8. 329\n",
       "9. 548\n",
       "10. 478\n",
       "\n",
       "\n"
      ],
      "text/plain": [
       " [1] 472 617 541 391 511 569 504 329 548 478"
      ]
     },
     "metadata": {},
     "output_type": "display_data"
    }
   ],
   "source": [
    "set.seed(1234)\n",
    "\n",
    "temp <- sample(1:100, size = 100, replace = TRUE)\n",
    "mymat <- matrix(temp, 10, 10)\n",
    "\n",
    "## section (a)\n",
    "myresult <- c()\n",
    "for (i in 1:10){\n",
    "    temp1 <- mymat[i, ]\n",
    "    myresult[i] <- sum(temp1)\n",
    "}\n",
    "myresult\n",
    "\n"
   ]
  },
  {
   "cell_type": "code",
   "execution_count": 16,
   "metadata": {
    "vscode": {
     "languageId": "r"
    }
   },
   "outputs": [
    {
     "name": "stdout",
     "output_type": "stream",
     "text": [
      "[1] 472\n",
      "[1] 391\n",
      "[1] 329\n",
      "[1] 478\n"
     ]
    }
   ],
   "source": [
    "## section (b)\n",
    "for (j in myresult){\n",
    "    if(j > 500) next else print(j)\n",
    "    \n",
    "}"
   ]
  },
  {
   "cell_type": "code",
   "execution_count": 15,
   "metadata": {
    "vscode": {
     "languageId": "r"
    }
   },
   "outputs": [
    {
     "name": "stdout",
     "output_type": "stream",
     "text": [
      "[1] 472\n",
      "[1] 391\n",
      "[1] 329\n",
      "[1] 478\n"
     ]
    }
   ],
   "source": [
    "## in better syntax\n",
    "for (j in myresult) {\n",
    "    if(j > 500){\n",
    "        next\n",
    "    } else {\n",
    "        print(j)\n",
    "    }\n",
    "}"
   ]
  },
  {
   "cell_type": "code",
   "execution_count": 18,
   "metadata": {
    "vscode": {
     "languageId": "r"
    }
   },
   "outputs": [
    {
     "name": "stdout",
     "output_type": "stream",
     "text": [
      "[1] 472\n"
     ]
    }
   ],
   "source": [
    "## section (c)\n",
    "## in better syntax\n",
    "for (j in myresult) {\n",
    "    if(j > 600){\n",
    "        break\n",
    "    } else {\n",
    "        print(j)\n",
    "    }\n",
    "}"
   ]
  },
  {
   "cell_type": "markdown",
   "metadata": {},
   "source": [
    "<br><br><hr><br>\n",
    "#### Example (vii):\n",
    "<br>\n",
    "Design a loop that takes a value from the user at each iteration and print it, if the user gives a value of zero, the loop will end."
   ]
  },
  {
   "cell_type": "code",
   "execution_count": 8,
   "metadata": {
    "vscode": {
     "languageId": "r"
    }
   },
   "outputs": [
    {
     "name": "stdout",
     "output_type": "stream",
     "text": [
      "[1] 10\n",
      "[1] 15\n",
      "[1] 14\n",
      "[1] 13\n",
      "[1] 11\n"
     ]
    }
   ],
   "source": [
    "i <- readline() |> as.numeric()\n",
    "while(i != 0) {\n",
    "    print(i)\n",
    "    i <- readline() |> as.numeric()\n",
    "    if (i == 0) break\n",
    "}"
   ]
  },
  {
   "cell_type": "markdown",
   "metadata": {},
   "source": [
    "<br><br> <hr><hr>\n",
    "<br>\n",
    "\n",
    "#### Example (viii): \n",
    "<br>\n",
    "Design a loop that checks the values ​​from 1 to 10000 and separates each one that is divisible by 4 and 3, finally stores the square power of these numbers in another vector and at the end of the loop print the values."
   ]
  },
  {
   "cell_type": "code",
   "execution_count": 10,
   "metadata": {
    "vscode": {
     "languageId": "r"
    }
   },
   "outputs": [
    {
     "data": {
      "text/html": [
       "<style>\n",
       ".list-inline {list-style: none; margin:0; padding: 0}\n",
       ".list-inline>li {display: inline-block}\n",
       ".list-inline>li:not(:last-child)::after {content: \"\\00b7\"; padding: 0 .5ex}\n",
       "</style>\n",
       "<ol class=list-inline><li>144</li><li>576</li><li>1296</li><li>2304</li><li>3600</li><li>5184</li><li>7056</li><li>9216</li><li>11664</li><li>14400</li><li>17424</li><li>20736</li><li>24336</li><li>28224</li><li>32400</li><li>36864</li><li>41616</li><li>46656</li><li>51984</li><li>57600</li><li>63504</li><li>69696</li><li>76176</li><li>82944</li><li>90000</li><li>97344</li><li>104976</li><li>112896</li><li>121104</li><li>129600</li><li>138384</li><li>147456</li><li>156816</li><li>166464</li><li>176400</li><li>186624</li><li>197136</li><li>207936</li><li>219024</li><li>230400</li><li>242064</li><li>254016</li><li>266256</li><li>278784</li><li>291600</li><li>304704</li><li>318096</li><li>331776</li><li>345744</li><li>360000</li><li>374544</li><li>389376</li><li>404496</li><li>419904</li><li>435600</li><li>451584</li><li>467856</li><li>484416</li><li>501264</li><li>518400</li><li>535824</li><li>553536</li><li>571536</li><li>589824</li><li>608400</li><li>627264</li><li>646416</li><li>665856</li><li>685584</li><li>705600</li><li>725904</li><li>746496</li><li>767376</li><li>788544</li><li>810000</li><li>831744</li><li>853776</li><li>876096</li><li>898704</li><li>921600</li><li>944784</li><li>968256</li><li>992016</li></ol>\n"
      ],
      "text/latex": [
       "\\begin{enumerate*}\n",
       "\\item 144\n",
       "\\item 576\n",
       "\\item 1296\n",
       "\\item 2304\n",
       "\\item 3600\n",
       "\\item 5184\n",
       "\\item 7056\n",
       "\\item 9216\n",
       "\\item 11664\n",
       "\\item 14400\n",
       "\\item 17424\n",
       "\\item 20736\n",
       "\\item 24336\n",
       "\\item 28224\n",
       "\\item 32400\n",
       "\\item 36864\n",
       "\\item 41616\n",
       "\\item 46656\n",
       "\\item 51984\n",
       "\\item 57600\n",
       "\\item 63504\n",
       "\\item 69696\n",
       "\\item 76176\n",
       "\\item 82944\n",
       "\\item 90000\n",
       "\\item 97344\n",
       "\\item 104976\n",
       "\\item 112896\n",
       "\\item 121104\n",
       "\\item 129600\n",
       "\\item 138384\n",
       "\\item 147456\n",
       "\\item 156816\n",
       "\\item 166464\n",
       "\\item 176400\n",
       "\\item 186624\n",
       "\\item 197136\n",
       "\\item 207936\n",
       "\\item 219024\n",
       "\\item 230400\n",
       "\\item 242064\n",
       "\\item 254016\n",
       "\\item 266256\n",
       "\\item 278784\n",
       "\\item 291600\n",
       "\\item 304704\n",
       "\\item 318096\n",
       "\\item 331776\n",
       "\\item 345744\n",
       "\\item 360000\n",
       "\\item 374544\n",
       "\\item 389376\n",
       "\\item 404496\n",
       "\\item 419904\n",
       "\\item 435600\n",
       "\\item 451584\n",
       "\\item 467856\n",
       "\\item 484416\n",
       "\\item 501264\n",
       "\\item 518400\n",
       "\\item 535824\n",
       "\\item 553536\n",
       "\\item 571536\n",
       "\\item 589824\n",
       "\\item 608400\n",
       "\\item 627264\n",
       "\\item 646416\n",
       "\\item 665856\n",
       "\\item 685584\n",
       "\\item 705600\n",
       "\\item 725904\n",
       "\\item 746496\n",
       "\\item 767376\n",
       "\\item 788544\n",
       "\\item 810000\n",
       "\\item 831744\n",
       "\\item 853776\n",
       "\\item 876096\n",
       "\\item 898704\n",
       "\\item 921600\n",
       "\\item 944784\n",
       "\\item 968256\n",
       "\\item 992016\n",
       "\\end{enumerate*}\n"
      ],
      "text/markdown": [
       "1. 144\n",
       "2. 576\n",
       "3. 1296\n",
       "4. 2304\n",
       "5. 3600\n",
       "6. 5184\n",
       "7. 7056\n",
       "8. 9216\n",
       "9. 11664\n",
       "10. 14400\n",
       "11. 17424\n",
       "12. 20736\n",
       "13. 24336\n",
       "14. 28224\n",
       "15. 32400\n",
       "16. 36864\n",
       "17. 41616\n",
       "18. 46656\n",
       "19. 51984\n",
       "20. 57600\n",
       "21. 63504\n",
       "22. 69696\n",
       "23. 76176\n",
       "24. 82944\n",
       "25. 90000\n",
       "26. 97344\n",
       "27. 104976\n",
       "28. 112896\n",
       "29. 121104\n",
       "30. 129600\n",
       "31. 138384\n",
       "32. 147456\n",
       "33. 156816\n",
       "34. 166464\n",
       "35. 176400\n",
       "36. 186624\n",
       "37. 197136\n",
       "38. 207936\n",
       "39. 219024\n",
       "40. 230400\n",
       "41. 242064\n",
       "42. 254016\n",
       "43. 266256\n",
       "44. 278784\n",
       "45. 291600\n",
       "46. 304704\n",
       "47. 318096\n",
       "48. 331776\n",
       "49. 345744\n",
       "50. 360000\n",
       "51. 374544\n",
       "52. 389376\n",
       "53. 404496\n",
       "54. 419904\n",
       "55. 435600\n",
       "56. 451584\n",
       "57. 467856\n",
       "58. 484416\n",
       "59. 501264\n",
       "60. 518400\n",
       "61. 535824\n",
       "62. 553536\n",
       "63. 571536\n",
       "64. 589824\n",
       "65. 608400\n",
       "66. 627264\n",
       "67. 646416\n",
       "68. 665856\n",
       "69. 685584\n",
       "70. 705600\n",
       "71. 725904\n",
       "72. 746496\n",
       "73. 767376\n",
       "74. 788544\n",
       "75. 810000\n",
       "76. 831744\n",
       "77. 853776\n",
       "78. 876096\n",
       "79. 898704\n",
       "80. 921600\n",
       "81. 944784\n",
       "82. 968256\n",
       "83. 992016\n",
       "\n",
       "\n"
      ],
      "text/plain": [
       " [1]    144    576   1296   2304   3600   5184   7056   9216  11664  14400\n",
       "[11]  17424  20736  24336  28224  32400  36864  41616  46656  51984  57600\n",
       "[21]  63504  69696  76176  82944  90000  97344 104976 112896 121104 129600\n",
       "[31] 138384 147456 156816 166464 176400 186624 197136 207936 219024 230400\n",
       "[41] 242064 254016 266256 278784 291600 304704 318096 331776 345744 360000\n",
       "[51] 374544 389376 404496 419904 435600 451584 467856 484416 501264 518400\n",
       "[61] 535824 553536 571536 589824 608400 627264 646416 665856 685584 705600\n",
       "[71] 725904 746496 767376 788544 810000 831744 853776 876096 898704 921600\n",
       "[81] 944784 968256 992016"
      ]
     },
     "metadata": {},
     "output_type": "display_data"
    }
   ],
   "source": [
    "myvec = c()\n",
    "for (i in 12:1e+3) {\n",
    "    if (i %% 4 == 0 && i %% 3 == 0) {\n",
    "        myvec = c(myvec, i ** 2)\n",
    "\n",
    "    }\n",
    "}\n",
    "myvec"
   ]
  },
  {
   "cell_type": "markdown",
   "metadata": {},
   "source": [
    "<br><br><hr><hr><br>\n",
    "\n",
    "#### lazy evaluation"
   ]
  },
  {
   "cell_type": "code",
   "execution_count": 5,
   "metadata": {
    "vscode": {
     "languageId": "r"
    }
   },
   "outputs": [
    {
     "data": {
      "text/html": [
       "6"
      ],
      "text/latex": [
       "6"
      ],
      "text/markdown": [
       "6"
      ],
      "text/plain": [
       "[1] 6"
      ]
     },
     "metadata": {},
     "output_type": "display_data"
    }
   ],
   "source": [
    "## how lazy evaluation work \n",
    "\n",
    "f1 <- function(x, y) {\n",
    "    x3 <- x ** 2 + 2\n",
    "    return(x3)\n",
    "}\n",
    "f1(2)"
   ]
  },
  {
   "cell_type": "code",
   "execution_count": 7,
   "metadata": {
    "vscode": {
     "languageId": "r"
    }
   },
   "outputs": [
    {
     "ename": "ERROR",
     "evalue": "Error in f2(2): argument \"y\" is missing, with no default\n",
     "output_type": "error",
     "traceback": [
      "Error in f2(2): argument \"y\" is missing, with no default\nTraceback:\n",
      "1. f2(2)"
     ]
    }
   ],
   "source": [
    "f2 <- function(x, y){\n",
    "    x3 <- x ** 2 + y\n",
    "    return(x3)\n",
    "}\n",
    "f2(2)"
   ]
  },
  {
   "cell_type": "markdown",
   "metadata": {},
   "source": [
    "<br><br><hr>\n",
    "\n",
    "\n",
    "#### Example (ix):\n",
    "<br>\n",
    "Write a function that takes a numeric vector and sorts it.  Do not use the sort function."
   ]
  },
  {
   "cell_type": "code",
   "execution_count": 15,
   "metadata": {
    "vscode": {
     "languageId": "r"
    }
   },
   "outputs": [],
   "source": [
    "mysort_fun <- function(x, method = \"inc\") {\n",
    "    if (! is.atomic(x) | !is.numeric(x)) stop(\"x must b a atomic vector and numeric\")\n",
    "    n <- length(x)\n",
    "    for (i in 1:(n-1)) {\n",
    "        for (j in (i + 1):n) {\n",
    "            if(x[i] > x[j]) {\n",
    "                temp = x[i]\n",
    "                x[i] <- x[j]\n",
    "                x[j] <- temp\n",
    "            }\n",
    "        }\n",
    "    }\n",
    "    result <- switch(method, \n",
    "                \"dec\" = x[n:1], \n",
    "                x[1:n])\n",
    "    return(result)\n",
    "}"
   ]
  },
  {
   "cell_type": "code",
   "execution_count": 16,
   "metadata": {
    "vscode": {
     "languageId": "r"
    }
   },
   "outputs": [
    {
     "data": {
      "text/html": [
       "<style>\n",
       ".list-inline {list-style: none; margin:0; padding: 0}\n",
       ".list-inline>li {display: inline-block}\n",
       ".list-inline>li:not(:last-child)::after {content: \"\\00b7\"; padding: 0 .5ex}\n",
       "</style>\n",
       "<ol class=list-inline><li>-10</li><li>-4</li><li>-2</li><li>1</li><li>3</li><li>10</li></ol>\n"
      ],
      "text/latex": [
       "\\begin{enumerate*}\n",
       "\\item -10\n",
       "\\item -4\n",
       "\\item -2\n",
       "\\item 1\n",
       "\\item 3\n",
       "\\item 10\n",
       "\\end{enumerate*}\n"
      ],
      "text/markdown": [
       "1. -10\n",
       "2. -4\n",
       "3. -2\n",
       "4. 1\n",
       "5. 3\n",
       "6. 10\n",
       "\n",
       "\n"
      ],
      "text/plain": [
       "[1] -10  -4  -2   1   3  10"
      ]
     },
     "metadata": {},
     "output_type": "display_data"
    }
   ],
   "source": [
    "y <- c(1, -2, 3, -4, 10, -10)\n",
    "\n",
    "mysort_fun(y)"
   ]
  },
  {
   "cell_type": "code",
   "execution_count": 17,
   "metadata": {
    "vscode": {
     "languageId": "r"
    }
   },
   "outputs": [
    {
     "data": {
      "text/html": [
       "<style>\n",
       ".list-inline {list-style: none; margin:0; padding: 0}\n",
       ".list-inline>li {display: inline-block}\n",
       ".list-inline>li:not(:last-child)::after {content: \"\\00b7\"; padding: 0 .5ex}\n",
       "</style>\n",
       "<ol class=list-inline><li>10</li><li>3</li><li>1</li><li>-2</li><li>-4</li><li>-10</li></ol>\n"
      ],
      "text/latex": [
       "\\begin{enumerate*}\n",
       "\\item 10\n",
       "\\item 3\n",
       "\\item 1\n",
       "\\item -2\n",
       "\\item -4\n",
       "\\item -10\n",
       "\\end{enumerate*}\n"
      ],
      "text/markdown": [
       "1. 10\n",
       "2. 3\n",
       "3. 1\n",
       "4. -2\n",
       "5. -4\n",
       "6. -10\n",
       "\n",
       "\n"
      ],
      "text/plain": [
       "[1]  10   3   1  -2  -4 -10"
      ]
     },
     "metadata": {},
     "output_type": "display_data"
    }
   ],
   "source": [
    "mysort_fun(y, method = \"dec\")"
   ]
  },
  {
   "cell_type": "code",
   "execution_count": 23,
   "metadata": {
    "vscode": {
     "languageId": "r"
    }
   },
   "outputs": [
    {
     "ename": "ERROR",
     "evalue": "Error in mysort_fun(z): x must b a atomic vector and numeric\n",
     "output_type": "error",
     "traceback": [
      "Error in mysort_fun(z): x must b a atomic vector and numeric\nTraceback:\n",
      "1. mysort_fun(z)",
      "2. stop(\"x must b a atomic vector and numeric\")   # at line 2 of file <text>"
     ]
    }
   ],
   "source": [
    "z <- c(\"a\", \"b\", 1, 2, 3)\n",
    "mysort_fun(z)"
   ]
  },
  {
   "cell_type": "markdown",
   "metadata": {},
   "source": [
    "<br><br>\n",
    "<hr>\n"
   ]
  },
  {
   "cell_type": "code",
   "execution_count": 19,
   "metadata": {
    "vscode": {
     "languageId": "r"
    }
   },
   "outputs": [
    {
     "data": {
      "text/plain": [
       "{\n",
       "    if (!is.atomic(x) | !is.numeric(x)) \n",
       "        stop(\"x must b a atomic vector and numeric\")\n",
       "    n <- length(x)\n",
       "    for (i in 1:(n - 1)) {\n",
       "        for (j in (i + 1):n) {\n",
       "            if (x[i] > x[j]) {\n",
       "                temp = x[i]\n",
       "                x[i] <- x[j]\n",
       "                x[j] <- temp\n",
       "            }\n",
       "        }\n",
       "    }\n",
       "    result <- switch(method, dec = x[n:1], x[1:n])\n",
       "    return(result)\n",
       "}"
      ]
     },
     "metadata": {},
     "output_type": "display_data"
    }
   ],
   "source": [
    "body(mysort_fun)"
   ]
  },
  {
   "cell_type": "code",
   "execution_count": 20,
   "metadata": {
    "vscode": {
     "languageId": "r"
    }
   },
   "outputs": [
    {
     "data": {
      "text/plain": [
       "$x\n",
       "\n",
       "\n",
       "$method\n",
       "[1] \"inc\"\n"
      ]
     },
     "metadata": {},
     "output_type": "display_data"
    }
   ],
   "source": [
    "formals(mysort_fun)"
   ]
  },
  {
   "cell_type": "code",
   "execution_count": 21,
   "metadata": {
    "vscode": {
     "languageId": "r"
    }
   },
   "outputs": [
    {
     "data": {
      "text/html": [
       "<pre class=language-r><code>function (x, method = \"inc\") \n",
       "NULL</code></pre>"
      ],
      "text/latex": [
       "\\begin{minted}{r}\n",
       "function (x, method = \"inc\") \n",
       "NULL\n",
       "\\end{minted}"
      ],
      "text/markdown": [
       "```r\n",
       "function (x, method = \"inc\") \n",
       "NULL\n",
       "```"
      ],
      "text/plain": [
       "function (x, method = \"inc\") \n",
       "NULL"
      ]
     },
     "metadata": {},
     "output_type": "display_data"
    }
   ],
   "source": [
    "args(mysort_fun)"
   ]
  },
  {
   "cell_type": "markdown",
   "metadata": {},
   "source": [
    "<br><br><hr><hr>\n",
    "\n",
    "\n",
    "#### Operators as function"
   ]
  },
  {
   "cell_type": "code",
   "execution_count": 28,
   "metadata": {
    "vscode": {
     "languageId": "r"
    }
   },
   "outputs": [
    {
     "data": {
      "text/html": [
       "5"
      ],
      "text/latex": [
       "5"
      ],
      "text/markdown": [
       "5"
      ],
      "text/plain": [
       "[1] 5"
      ]
     },
     "metadata": {},
     "output_type": "display_data"
    },
    {
     "data": {
      "text/html": [
       "2"
      ],
      "text/latex": [
       "2"
      ],
      "text/markdown": [
       "2"
      ],
      "text/plain": [
       "[1] 2"
      ]
     },
     "metadata": {},
     "output_type": "display_data"
    },
    {
     "data": {
      "text/html": [
       "-10"
      ],
      "text/latex": [
       "-10"
      ],
      "text/markdown": [
       "-10"
      ],
      "text/plain": [
       "[1] -10"
      ]
     },
     "metadata": {},
     "output_type": "display_data"
    },
    {
     "data": {
      "text/html": [
       "2"
      ],
      "text/latex": [
       "2"
      ],
      "text/markdown": [
       "2"
      ],
      "text/plain": [
       "[1] 2"
      ]
     },
     "metadata": {},
     "output_type": "display_data"
    }
   ],
   "source": [
    "`+`(2, 3)\n",
    "`/`(4, 2)\n",
    "`*`(5, -2)\n",
    "`-`(5, 3)"
   ]
  },
  {
   "cell_type": "markdown",
   "metadata": {},
   "source": [
    "#### %in% "
   ]
  },
  {
   "cell_type": "code",
   "execution_count": 29,
   "metadata": {
    "vscode": {
     "languageId": "r"
    }
   },
   "outputs": [
    {
     "data": {
      "text/html": [
       "<style>\n",
       ".list-inline {list-style: none; margin:0; padding: 0}\n",
       ".list-inline>li {display: inline-block}\n",
       ".list-inline>li:not(:last-child)::after {content: \"\\00b7\"; padding: 0 .5ex}\n",
       "</style>\n",
       "<ol class=list-inline><li>FALSE</li><li>FALSE</li><li>TRUE</li><li>TRUE</li><li>TRUE</li></ol>\n"
      ],
      "text/latex": [
       "\\begin{enumerate*}\n",
       "\\item FALSE\n",
       "\\item FALSE\n",
       "\\item TRUE\n",
       "\\item TRUE\n",
       "\\item TRUE\n",
       "\\end{enumerate*}\n"
      ],
      "text/markdown": [
       "1. FALSE\n",
       "2. FALSE\n",
       "3. TRUE\n",
       "4. TRUE\n",
       "5. TRUE\n",
       "\n",
       "\n"
      ],
      "text/plain": [
       "[1] FALSE FALSE  TRUE  TRUE  TRUE"
      ]
     },
     "metadata": {},
     "output_type": "display_data"
    }
   ],
   "source": [
    "x1 <- c(-1, -2, 3, 4, 5)\n",
    "x2 <- 1:1000\n",
    "x1 %in% x2"
   ]
  },
  {
   "cell_type": "code",
   "execution_count": 36,
   "metadata": {
    "vscode": {
     "languageId": "r"
    }
   },
   "outputs": [
    {
     "data": {
      "text/html": [
       "2.5"
      ],
      "text/latex": [
       "2.5"
      ],
      "text/markdown": [
       "2.5"
      ],
      "text/plain": [
       "[1] 2.5"
      ]
     },
     "metadata": {},
     "output_type": "display_data"
    }
   ],
   "source": [
    "`%v%` <- function(x, f) {\n",
    "    x <- list(x)\n",
    "    do.call(f, x)\n",
    "}\n",
    "\n",
    "y <- 1:4\n",
    "y %v% mean\n"
   ]
  },
  {
   "cell_type": "markdown",
   "metadata": {},
   "source": [
    "<br><br>\n",
    "\n",
    "<hr><hr>\n",
    "\n",
    "#### Parallel Programming in R"
   ]
  },
  {
   "cell_type": "code",
   "execution_count": 38,
   "metadata": {
    "vscode": {
     "languageId": "r"
    }
   },
   "outputs": [
    {
     "name": "stderr",
     "output_type": "stream",
     "text": [
      "Loading required package: Matrix\n",
      "\n"
     ]
    }
   ],
   "source": [
    "library(lme4)\n",
    "f <- function(i) {\n",
    "    lmer(Petal.Width ~ . -Species + (1|Species), data = iris)\n",
    "}"
   ]
  },
  {
   "cell_type": "code",
   "execution_count": 47,
   "metadata": {
    "vscode": {
     "languageId": "r"
    }
   },
   "outputs": [],
   "source": [
    "start_1 <- Sys.time()\n",
    "Result_1 <- lapply(1:100, f)\n",
    "end_1 = Sys.time()\n",
    "el_1 <- difftime(end_1, start_1, unit = \"sec\")[[1]]\n"
   ]
  },
  {
   "cell_type": "code",
   "execution_count": 43,
   "metadata": {
    "vscode": {
     "languageId": "r"
    }
   },
   "outputs": [],
   "source": [
    "library(parallel)"
   ]
  },
  {
   "cell_type": "code",
   "execution_count": 44,
   "metadata": {
    "vscode": {
     "languageId": "r"
    }
   },
   "outputs": [
    {
     "data": {
      "text/html": [
       "4"
      ],
      "text/latex": [
       "4"
      ],
      "text/markdown": [
       "4"
      ],
      "text/plain": [
       "[1] 4"
      ]
     },
     "metadata": {},
     "output_type": "display_data"
    }
   ],
   "source": [
    "detectCores()"
   ]
  },
  {
   "cell_type": "code",
   "execution_count": 48,
   "metadata": {
    "vscode": {
     "languageId": "r"
    }
   },
   "outputs": [],
   "source": [
    "start_parallel_1 <- Sys.time()\n",
    "result_2 <- mclapply(1:100, f)\n",
    "end_parallel_1 <- Sys.time()\n",
    "el_2 <- difftime(end_parallel_1, start_parallel_1, unit = \"sec\")\n"
   ]
  },
  {
   "cell_type": "code",
   "execution_count": 49,
   "metadata": {
    "vscode": {
     "languageId": "r"
    }
   },
   "outputs": [
    {
     "name": "stdout",
     "output_type": "stream",
     "text": [
      "Elapsed time without Parallel Programming: 2.079824\n",
      "Elapsed time with Parallel Programming (forking): 1.847131\n"
     ]
    }
   ],
   "source": [
    "cat(\"Elapsed time without Parallel Programming: \", el_1, \"\\n\", \n",
    "\"Elapsed time with Parallel Programming (forking): \", el_2, \"\\n\", \n",
    "sep = \"\")"
   ]
  }
 ],
 "metadata": {
  "kernelspec": {
   "display_name": "R",
   "language": "R",
   "name": "ir"
  },
  "language_info": {
   "codemirror_mode": "r",
   "file_extension": ".r",
   "mimetype": "text/x-r-source",
   "name": "R",
   "pygments_lexer": "r",
   "version": "4.1.2"
  }
 },
 "nbformat": 4,
 "nbformat_minor": 2
}
