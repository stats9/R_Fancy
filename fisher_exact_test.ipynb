{
 "cells": [
  {
   "cell_type": "markdown",
   "metadata": {},
   "source": [
    "#### This function is written for this, to make a comparison between R's default function for calculating Fisher's exact test and Fisher's algorithm for implementing this test, Fisher's algorithm that I have implemented in this function is only designed for two-by-two tables."
   ]
  },
  {
   "cell_type": "code",
   "execution_count": 16,
   "metadata": {
    "vscode": {
     "languageId": "r"
    }
   },
   "outputs": [],
   "source": [
    "## implement function\n",
    "\n",
    "h_fisher <- function(tab, alternative = \"two-sided\"){\n",
    "    n11 <- tab[1, 1]\n",
    "    n12 <- tab[1, 2]\n",
    "    n21 <- tab[2, 1]\n",
    "    n22 <- tab[2, 2]\n",
    "    prob_tab <- dhyper(n11, n11 + n12, n21 + n22, n11 + n21)\n",
    "    Mat_list1 <- list()\n",
    "    for(k in 0:(n11 + n21)){\n",
    "        Mat_list1[[k + 1]] <- matrix(c(k, n21 + n11 - k, n12 + n11 - k, n22 - n11 + k), \n",
    "        2, 2)\n",
    "    }\n",
    "\n",
    "\n",
    "### two-sided\n",
    "get_proper_mat_two_sided <- function(M){\n",
    "    indicate <- FALSE\n",
    "    res_val1 <- sum(M < 0)\n",
    "    if(!res_val1) {\n",
    "        prob <- dhyper(M[1, 1], M[1, 1] + M[1, 2], M[2, 1] + M[2, 2],\n",
    "         M[1, 1] + M[2, 1])\n",
    "         if(prob <= prob_tab) indicate <- TRUE\n",
    "    }\n",
    "    return(indicate)\n",
    "}\n",
    "ind_proper_two_sided <- unlist(lapply(Mat_list1, get_proper_mat_two_sided))\n",
    "ind_proper_two_sided <- which(ind_proper_two_sided)\n",
    "proper_mat_two_sided <- Mat_list1[ind_proper_two_sided]\n",
    "\n",
    "\n",
    "\n",
    "### less\n",
    "\n",
    "get_proper_mat_less <- function(M){\n",
    "    indicate <- FALSE\n",
    "    res_val1 <- sum(M < 0)\n",
    "    if(!res_val1) {\n",
    "        if(M[1, 1] <= n11) indicate <- TRUE\n",
    "    }\n",
    "    return(indicate)\n",
    "}\n",
    "ind_proper_less <- unlist(lapply(Mat_list1, get_proper_mat_less))\n",
    "ind_proper_less <- which(ind_proper_less)\n",
    "proper_mat_less <- Mat_list1[ind_proper_less]\n",
    "\n",
    "### greater\n",
    "\n",
    "get_proper_mat_greater <- function(M){\n",
    "    indicate <- FALSE\n",
    "    res_val1 <- sum(M < 0)\n",
    "    if(!res_val1) {\n",
    "        if(M[1, 1] >= n11) indicate <- TRUE\n",
    "    }\n",
    "    return(indicate)\n",
    "}\n",
    "ind_proper_greater <- unlist(lapply(Mat_list1, get_proper_mat_greater))\n",
    "ind_proper_greater <- which(ind_proper_greater)\n",
    "proper_mat_greater <- Mat_list1[ind_proper_greater]\n",
    "\n",
    "\n",
    "Mat_final <- switch(alternative, \n",
    "\"two-sided\" = proper_mat_two_sided, \n",
    "\"less\" = proper_mat_less, \n",
    "proper_mat_greater)\n",
    "\n",
    "get_pval <- function(M){\n",
    "    mm <- n11 + n12\n",
    "    nn <- n21 + n22\n",
    "    a <- M[1, 1]\n",
    "    b <- M[2, 1]\n",
    "    k <- a + b\n",
    "    return(dhyper(a, mm, nn, k))\n",
    "}\n",
    "pval_total <- unlist(lapply(Mat_final, get_pval))\n",
    "result_final <- data.frame(stats = c(\"p-value\", \"p-table\"), value = c(round(sum(pval_total), 4), round(prob_tab, 4)))\n",
    "return(result_final)\n",
    "}\n"
   ]
  },
  {
   "cell_type": "code",
   "execution_count": 17,
   "metadata": {
    "vscode": {
     "languageId": "r"
    }
   },
   "outputs": [
    {
     "data": {
      "text/html": [
       "<table class=\"dataframe\">\n",
       "<caption>A matrix: 2 × 2 of type dbl</caption>\n",
       "<tbody>\n",
       "\t<tr><td>10</td><td>7</td></tr>\n",
       "\t<tr><td> 9</td><td>3</td></tr>\n",
       "</tbody>\n",
       "</table>\n"
      ],
      "text/latex": [
       "A matrix: 2 × 2 of type dbl\n",
       "\\begin{tabular}{ll}\n",
       "\t 10 & 7\\\\\n",
       "\t  9 & 3\\\\\n",
       "\\end{tabular}\n"
      ],
      "text/markdown": [
       "\n",
       "A matrix: 2 × 2 of type dbl\n",
       "\n",
       "| 10 | 7 |\n",
       "|  9 | 3 |\n",
       "\n"
      ],
      "text/plain": [
       "     [,1] [,2]\n",
       "[1,] 10   7   \n",
       "[2,]  9   3   "
      ]
     },
     "metadata": {},
     "output_type": "display_data"
    }
   ],
   "source": [
    "\n",
    "tab <- matrix(c(10, 9, 7, 3), 2, 2) \n",
    "tab\n"
   ]
  },
  {
   "cell_type": "code",
   "execution_count": 18,
   "metadata": {
    "vscode": {
     "languageId": "r"
    }
   },
   "outputs": [
    {
     "name": "stdout",
     "output_type": "stream",
     "text": [
      "results of my function: \n",
      "\n"
     ]
    },
    {
     "data": {
      "text/html": [
       "<table class=\"dataframe\">\n",
       "<caption>A data.frame: 2 × 2</caption>\n",
       "<thead>\n",
       "\t<tr><th scope=col>stats</th><th scope=col>value</th></tr>\n",
       "\t<tr><th scope=col>&lt;chr&gt;</th><th scope=col>&lt;dbl&gt;</th></tr>\n",
       "</thead>\n",
       "<tbody>\n",
       "\t<tr><td>p-value</td><td>0.9044</td></tr>\n",
       "\t<tr><td>p-table</td><td>0.2136</td></tr>\n",
       "</tbody>\n",
       "</table>\n"
      ],
      "text/latex": [
       "A data.frame: 2 × 2\n",
       "\\begin{tabular}{ll}\n",
       " stats & value\\\\\n",
       " <chr> & <dbl>\\\\\n",
       "\\hline\n",
       "\t p-value & 0.9044\\\\\n",
       "\t p-table & 0.2136\\\\\n",
       "\\end{tabular}\n"
      ],
      "text/markdown": [
       "\n",
       "A data.frame: 2 × 2\n",
       "\n",
       "| stats &lt;chr&gt; | value &lt;dbl&gt; |\n",
       "|---|---|\n",
       "| p-value | 0.9044 |\n",
       "| p-table | 0.2136 |\n",
       "\n"
      ],
      "text/plain": [
       "  stats   value \n",
       "1 p-value 0.9044\n",
       "2 p-table 0.2136"
      ]
     },
     "metadata": {},
     "output_type": "display_data"
    },
    {
     "name": "stdout",
     "output_type": "stream",
     "text": [
      "\n",
      "\n",
      "\n",
      "builtin function of R results: \n",
      "\n"
     ]
    },
    {
     "data": {
      "text/plain": [
       "\n",
       "\tFisher's Exact Test for Count Data\n",
       "\n",
       "data:  tab\n",
       "p-value = 0.9044\n",
       "alternative hypothesis: true odds ratio is greater than 1\n",
       "95 percent confidence interval:\n",
       " 0.08460686        Inf\n",
       "sample estimates:\n",
       "odds ratio \n",
       " 0.4884198 \n"
      ]
     },
     "metadata": {},
     "output_type": "display_data"
    },
    {
     "name": "stdout",
     "output_type": "stream",
     "text": [
      "\n",
      "\n",
      "\n",
      "result of my function: \n",
      "\n"
     ]
    },
    {
     "data": {
      "text/html": [
       "<table class=\"dataframe\">\n",
       "<caption>A data.frame: 2 × 2</caption>\n",
       "<thead>\n",
       "\t<tr><th scope=col>stats</th><th scope=col>value</th></tr>\n",
       "\t<tr><th scope=col>&lt;chr&gt;</th><th scope=col>&lt;dbl&gt;</th></tr>\n",
       "</thead>\n",
       "<tbody>\n",
       "\t<tr><td>p-value</td><td>0.3092</td></tr>\n",
       "\t<tr><td>p-table</td><td>0.2136</td></tr>\n",
       "</tbody>\n",
       "</table>\n"
      ],
      "text/latex": [
       "A data.frame: 2 × 2\n",
       "\\begin{tabular}{ll}\n",
       " stats & value\\\\\n",
       " <chr> & <dbl>\\\\\n",
       "\\hline\n",
       "\t p-value & 0.3092\\\\\n",
       "\t p-table & 0.2136\\\\\n",
       "\\end{tabular}\n"
      ],
      "text/markdown": [
       "\n",
       "A data.frame: 2 × 2\n",
       "\n",
       "| stats &lt;chr&gt; | value &lt;dbl&gt; |\n",
       "|---|---|\n",
       "| p-value | 0.3092 |\n",
       "| p-table | 0.2136 |\n",
       "\n"
      ],
      "text/plain": [
       "  stats   value \n",
       "1 p-value 0.3092\n",
       "2 p-table 0.2136"
      ]
     },
     "metadata": {},
     "output_type": "display_data"
    },
    {
     "name": "stdout",
     "output_type": "stream",
     "text": [
      "\n",
      "\n",
      "\n",
      "builtin functoin of R results: \n",
      "\n"
     ]
    },
    {
     "data": {
      "text/plain": [
       "\n",
       "\tFisher's Exact Test for Count Data\n",
       "\n",
       "data:  tab\n",
       "p-value = 0.3092\n",
       "alternative hypothesis: true odds ratio is less than 1\n",
       "95 percent confidence interval:\n",
       " 0.000000 2.379916\n",
       "sample estimates:\n",
       "odds ratio \n",
       " 0.4884198 \n"
      ]
     },
     "metadata": {},
     "output_type": "display_data"
    },
    {
     "name": "stdout",
     "output_type": "stream",
     "text": [
      "\n",
      "\n",
      "\n",
      "results of my function: \n",
      "\n"
     ]
    },
    {
     "data": {
      "text/html": [
       "<table class=\"dataframe\">\n",
       "<caption>A data.frame: 2 × 2</caption>\n",
       "<thead>\n",
       "\t<tr><th scope=col>stats</th><th scope=col>value</th></tr>\n",
       "\t<tr><th scope=col>&lt;chr&gt;</th><th scope=col>&lt;dbl&gt;</th></tr>\n",
       "</thead>\n",
       "<tbody>\n",
       "\t<tr><td>p-value</td><td>0.4495</td></tr>\n",
       "\t<tr><td>p-table</td><td>0.2136</td></tr>\n",
       "</tbody>\n",
       "</table>\n"
      ],
      "text/latex": [
       "A data.frame: 2 × 2\n",
       "\\begin{tabular}{ll}\n",
       " stats & value\\\\\n",
       " <chr> & <dbl>\\\\\n",
       "\\hline\n",
       "\t p-value & 0.4495\\\\\n",
       "\t p-table & 0.2136\\\\\n",
       "\\end{tabular}\n"
      ],
      "text/markdown": [
       "\n",
       "A data.frame: 2 × 2\n",
       "\n",
       "| stats &lt;chr&gt; | value &lt;dbl&gt; |\n",
       "|---|---|\n",
       "| p-value | 0.4495 |\n",
       "| p-table | 0.2136 |\n",
       "\n"
      ],
      "text/plain": [
       "  stats   value \n",
       "1 p-value 0.4495\n",
       "2 p-table 0.2136"
      ]
     },
     "metadata": {},
     "output_type": "display_data"
    },
    {
     "name": "stdout",
     "output_type": "stream",
     "text": [
      "\n",
      "\n",
      "\n",
      "builtin functoin of R results: \n",
      "\n"
     ]
    },
    {
     "data": {
      "text/plain": [
       "\n",
       "\tFisher's Exact Test for Count Data\n",
       "\n",
       "data:  tab\n",
       "p-value = 0.4495\n",
       "alternative hypothesis: true odds ratio is not equal to 1\n",
       "95 percent confidence interval:\n",
       " 0.06215556 3.02187190\n",
       "sample estimates:\n",
       "odds ratio \n",
       " 0.4884198 \n"
      ]
     },
     "metadata": {},
     "output_type": "display_data"
    },
    {
     "name": "stdout",
     "output_type": "stream",
     "text": [
      "\n",
      "\n",
      "\n"
     ]
    }
   ],
   "source": [
    "cat(\"results of my function: \\n\\n\")\n",
    "h_fisher(tab, alternative = \"greater\")\n",
    "cat(\"\\n\\n\\n\")\n",
    "##########################################################\n",
    "cat(\"builtin function of R results: \\n\\n\")\n",
    "fisher.test(tab, alternative = \"greater\")\n",
    "\n",
    "cat(\"\\n\\n\\n\")\n",
    "##########################################################\n",
    "\n",
    "cat(\"result of my function: \\n\\n\")\n",
    "h_fisher(tab, alternative = \"less\")\n",
    "cat(\"\\n\\n\\n\")\n",
    "#########################################################\n",
    "cat(\"builtin functoin of R results: \\n\\n\")\n",
    "fisher.test(tab, alternative = \"less\")\n",
    "\n",
    "cat(\"\\n\\n\\n\")\n",
    "##########################################################\n",
    "cat(\"results of my function: \\n\\n\")\n",
    "h_fisher(tab, alternative = \"two-sided\")\n",
    "cat(\"\\n\\n\\n\")\n",
    "#########################################################\n",
    "\n",
    "cat(\"builtin functoin of R results: \\n\\n\")\n",
    "fisher.test(tab, alternative = \"two.sided\")\n",
    "cat(\"\\n\\n\\n\")"
   ]
  },
  {
   "cell_type": "code",
   "execution_count": 19,
   "metadata": {
    "vscode": {
     "languageId": "r"
    }
   },
   "outputs": [
    {
     "data": {
      "text/html": [
       "<table class=\"dataframe\">\n",
       "<caption>A matrix: 2 × 2 of type dbl</caption>\n",
       "<tbody>\n",
       "\t<tr><td> 1</td><td>9</td></tr>\n",
       "\t<tr><td>11</td><td>3</td></tr>\n",
       "</tbody>\n",
       "</table>\n"
      ],
      "text/latex": [
       "A matrix: 2 × 2 of type dbl\n",
       "\\begin{tabular}{ll}\n",
       "\t  1 & 9\\\\\n",
       "\t 11 & 3\\\\\n",
       "\\end{tabular}\n"
      ],
      "text/markdown": [
       "\n",
       "A matrix: 2 × 2 of type dbl\n",
       "\n",
       "|  1 | 9 |\n",
       "| 11 | 3 |\n",
       "\n"
      ],
      "text/plain": [
       "     [,1] [,2]\n",
       "[1,]  1   9   \n",
       "[2,] 11   3   "
      ]
     },
     "metadata": {},
     "output_type": "display_data"
    }
   ],
   "source": [
    "tab2 <- matrix(c(1, 9, 11, 3), 2, 2,\n",
    "byrow = T)\n",
    "tab2"
   ]
  },
  {
   "cell_type": "code",
   "execution_count": 20,
   "metadata": {
    "vscode": {
     "languageId": "r"
    }
   },
   "outputs": [
    {
     "name": "stdout",
     "output_type": "stream",
     "text": [
      "results of my function: \n",
      "\n"
     ]
    },
    {
     "data": {
      "text/html": [
       "<table class=\"dataframe\">\n",
       "<caption>A data.frame: 2 × 2</caption>\n",
       "<thead>\n",
       "\t<tr><th scope=col>stats</th><th scope=col>value</th></tr>\n",
       "\t<tr><th scope=col>&lt;chr&gt;</th><th scope=col>&lt;dbl&gt;</th></tr>\n",
       "</thead>\n",
       "<tbody>\n",
       "\t<tr><td>p-value</td><td>1.0000</td></tr>\n",
       "\t<tr><td>p-table</td><td>0.0013</td></tr>\n",
       "</tbody>\n",
       "</table>\n"
      ],
      "text/latex": [
       "A data.frame: 2 × 2\n",
       "\\begin{tabular}{ll}\n",
       " stats & value\\\\\n",
       " <chr> & <dbl>\\\\\n",
       "\\hline\n",
       "\t p-value & 1.0000\\\\\n",
       "\t p-table & 0.0013\\\\\n",
       "\\end{tabular}\n"
      ],
      "text/markdown": [
       "\n",
       "A data.frame: 2 × 2\n",
       "\n",
       "| stats &lt;chr&gt; | value &lt;dbl&gt; |\n",
       "|---|---|\n",
       "| p-value | 1.0000 |\n",
       "| p-table | 0.0013 |\n",
       "\n"
      ],
      "text/plain": [
       "  stats   value \n",
       "1 p-value 1.0000\n",
       "2 p-table 0.0013"
      ]
     },
     "metadata": {},
     "output_type": "display_data"
    },
    {
     "name": "stdout",
     "output_type": "stream",
     "text": [
      "\n",
      "\n",
      "\n",
      "builtin function of R results: \n",
      "\n"
     ]
    },
    {
     "data": {
      "text/plain": [
       "\n",
       "\tFisher's Exact Test for Count Data\n",
       "\n",
       "data:  tab2\n",
       "p-value = 1\n",
       "alternative hypothesis: true odds ratio is greater than 1\n",
       "95 percent confidence interval:\n",
       " 0.001297208         Inf\n",
       "sample estimates:\n",
       "odds ratio \n",
       "0.03723312 \n"
      ]
     },
     "metadata": {},
     "output_type": "display_data"
    },
    {
     "name": "stdout",
     "output_type": "stream",
     "text": [
      "\n",
      "\n",
      "\n",
      "result of my function: \n",
      "\n"
     ]
    },
    {
     "data": {
      "text/html": [
       "<table class=\"dataframe\">\n",
       "<caption>A data.frame: 2 × 2</caption>\n",
       "<thead>\n",
       "\t<tr><th scope=col>stats</th><th scope=col>value</th></tr>\n",
       "\t<tr><th scope=col>&lt;chr&gt;</th><th scope=col>&lt;dbl&gt;</th></tr>\n",
       "</thead>\n",
       "<tbody>\n",
       "\t<tr><td>p-value</td><td>0.0014</td></tr>\n",
       "\t<tr><td>p-table</td><td>0.0013</td></tr>\n",
       "</tbody>\n",
       "</table>\n"
      ],
      "text/latex": [
       "A data.frame: 2 × 2\n",
       "\\begin{tabular}{ll}\n",
       " stats & value\\\\\n",
       " <chr> & <dbl>\\\\\n",
       "\\hline\n",
       "\t p-value & 0.0014\\\\\n",
       "\t p-table & 0.0013\\\\\n",
       "\\end{tabular}\n"
      ],
      "text/markdown": [
       "\n",
       "A data.frame: 2 × 2\n",
       "\n",
       "| stats &lt;chr&gt; | value &lt;dbl&gt; |\n",
       "|---|---|\n",
       "| p-value | 0.0014 |\n",
       "| p-table | 0.0013 |\n",
       "\n"
      ],
      "text/plain": [
       "  stats   value \n",
       "1 p-value 0.0014\n",
       "2 p-table 0.0013"
      ]
     },
     "metadata": {},
     "output_type": "display_data"
    },
    {
     "name": "stdout",
     "output_type": "stream",
     "text": [
      "\n",
      "\n",
      "\n",
      "builtin functoin of R results: \n",
      "\n"
     ]
    },
    {
     "data": {
      "text/plain": [
       "\n",
       "\tFisher's Exact Test for Count Data\n",
       "\n",
       "data:  tab2\n",
       "p-value = 0.00138\n",
       "alternative hypothesis: true odds ratio is less than 1\n",
       "95 percent confidence interval:\n",
       " 0.0000000 0.3260026\n",
       "sample estimates:\n",
       "odds ratio \n",
       "0.03723312 \n"
      ]
     },
     "metadata": {},
     "output_type": "display_data"
    },
    {
     "name": "stdout",
     "output_type": "stream",
     "text": [
      "\n",
      "\n",
      "\n",
      "results of my function: \n",
      "\n"
     ]
    },
    {
     "data": {
      "text/html": [
       "<table class=\"dataframe\">\n",
       "<caption>A data.frame: 2 × 2</caption>\n",
       "<thead>\n",
       "\t<tr><th scope=col>stats</th><th scope=col>value</th></tr>\n",
       "\t<tr><th scope=col>&lt;chr&gt;</th><th scope=col>&lt;dbl&gt;</th></tr>\n",
       "</thead>\n",
       "<tbody>\n",
       "\t<tr><td>p-value</td><td>0.0028</td></tr>\n",
       "\t<tr><td>p-table</td><td>0.0013</td></tr>\n",
       "</tbody>\n",
       "</table>\n"
      ],
      "text/latex": [
       "A data.frame: 2 × 2\n",
       "\\begin{tabular}{ll}\n",
       " stats & value\\\\\n",
       " <chr> & <dbl>\\\\\n",
       "\\hline\n",
       "\t p-value & 0.0028\\\\\n",
       "\t p-table & 0.0013\\\\\n",
       "\\end{tabular}\n"
      ],
      "text/markdown": [
       "\n",
       "A data.frame: 2 × 2\n",
       "\n",
       "| stats &lt;chr&gt; | value &lt;dbl&gt; |\n",
       "|---|---|\n",
       "| p-value | 0.0028 |\n",
       "| p-table | 0.0013 |\n",
       "\n"
      ],
      "text/plain": [
       "  stats   value \n",
       "1 p-value 0.0028\n",
       "2 p-table 0.0013"
      ]
     },
     "metadata": {},
     "output_type": "display_data"
    },
    {
     "name": "stdout",
     "output_type": "stream",
     "text": [
      "\n",
      "\n",
      "\n",
      "builtin functoin of R results: \n",
      "\n"
     ]
    },
    {
     "data": {
      "text/plain": [
       "\n",
       "\tFisher's Exact Test for Count Data\n",
       "\n",
       "data:  tab2\n",
       "p-value = 0.002759\n",
       "alternative hypothesis: true odds ratio is not equal to 1\n",
       "95 percent confidence interval:\n",
       " 0.0006438284 0.4258840381\n",
       "sample estimates:\n",
       "odds ratio \n",
       "0.03723312 \n"
      ]
     },
     "metadata": {},
     "output_type": "display_data"
    },
    {
     "name": "stdout",
     "output_type": "stream",
     "text": [
      "\n",
      "\n",
      "\n"
     ]
    }
   ],
   "source": [
    "cat(\"results of my function: \\n\\n\")\n",
    "h_fisher(tab2, alternative = \"greater\")\n",
    "cat(\"\\n\\n\\n\")\n",
    "##########################################################\n",
    "cat(\"builtin function of R results: \\n\\n\")\n",
    "fisher.test(tab2, alternative = \"greater\")\n",
    "\n",
    "cat(\"\\n\\n\\n\")\n",
    "##########################################################\n",
    "\n",
    "cat(\"result of my function: \\n\\n\")\n",
    "h_fisher(tab2, alternative = \"less\")\n",
    "cat(\"\\n\\n\\n\")\n",
    "#########################################################\n",
    "cat(\"builtin functoin of R results: \\n\\n\")\n",
    "fisher.test(tab2, alternative = \"less\")\n",
    "\n",
    "cat(\"\\n\\n\\n\")\n",
    "##########################################################\n",
    "cat(\"results of my function: \\n\\n\")\n",
    "h_fisher(tab2, alternative = \"two-sided\")\n",
    "cat(\"\\n\\n\\n\")\n",
    "#########################################################\n",
    "\n",
    "cat(\"builtin functoin of R results: \\n\\n\")\n",
    "fisher.test(tab2, alternative = \"two.sided\")\n",
    "cat(\"\\n\\n\\n\")"
   ]
  }
 ],
 "metadata": {
  "kernelspec": {
   "display_name": "R",
   "language": "R",
   "name": "ir"
  },
  "language_info": {
   "codemirror_mode": "r",
   "file_extension": ".r",
   "mimetype": "text/x-r-source",
   "name": "R",
   "pygments_lexer": "r",
   "version": "4.2.2"
  },
  "orig_nbformat": 4
 },
 "nbformat": 4,
 "nbformat_minor": 2
}
